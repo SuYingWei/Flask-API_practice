{
 "cells": [
  {
   "cell_type": "code",
   "execution_count": 1,
   "metadata": {},
   "outputs": [
    {
     "name": "stdout",
     "output_type": "stream",
     "text": [
      "Collecting flask\n",
      "  Downloading Flask-0.12.2-py2.py3-none-any.whl (83kB)\n",
      "\u001b[K    100% |████████████████████████████████| 92kB 1.6MB/s ta 0:00:011\n",
      "\u001b[?25hCollecting Werkzeug>=0.7 (from flask)\n",
      "  Downloading Werkzeug-0.14.1-py2.py3-none-any.whl (322kB)\n",
      "\u001b[K    100% |████████████████████████████████| 327kB 1.8MB/s ta 0:00:011\n",
      "\u001b[?25hRequirement already satisfied: Jinja2>=2.4 in /usr/local/lib/python3.5/dist-packages (from flask)\n",
      "Collecting click>=2.0 (from flask)\n",
      "  Downloading click-6.7-py2.py3-none-any.whl (71kB)\n",
      "\u001b[K    100% |████████████████████████████████| 71kB 6.2MB/s eta 0:00:01\n",
      "\u001b[?25hCollecting itsdangerous>=0.21 (from flask)\n",
      "  Downloading itsdangerous-0.24.tar.gz (46kB)\n",
      "\u001b[K    100% |████████████████████████████████| 51kB 1.8MB/s ta 0:00:011\n",
      "\u001b[?25hRequirement already satisfied: MarkupSafe>=0.23 in /usr/local/lib/python3.5/dist-packages (from Jinja2>=2.4->flask)\n",
      "Building wheels for collected packages: itsdangerous\n",
      "  Running setup.py bdist_wheel for itsdangerous ... \u001b[?25ldone\n",
      "\u001b[?25h  Stored in directory: /home/b10317053/.cache/pip/wheels/fc/a8/66/24d655233c757e178d45dea2de22a04c6d92766abfb741129a\n",
      "Successfully built itsdangerous\n",
      "Installing collected packages: Werkzeug, click, itsdangerous, flask\n",
      "Successfully installed Werkzeug-0.14.1 click-6.7 flask-0.12.2 itsdangerous-0.24\n"
     ]
    }
   ],
   "source": [
    "! pip install --user flask"
   ]
  },
  {
   "cell_type": "code",
   "execution_count": 14,
   "metadata": {},
   "outputs": [],
   "source": [
    "from ptt_crawler import PttCrawler\n",
    "from flask import Flask, request, make_response, jsonify\n",
    "\n",
    "app = Flask('flask-api')\n",
    "\n",
    "@app.route('/')\n",
    "def hello_world():\n",
    "    message = {'message': 'hello world'}\n",
    "    return jsonify(message)\n",
    "\n",
    "@app.route('/ptt_crawler', methods=['GET', 'POST'])\n",
    "def run_crawler():\n",
    "    if request.method == 'GET':\n",
    "        crawler = PttCrawler('Gossiping', page=1)\n",
    "    \n",
    "    elif request.method == 'POST':\n",
    "        board = request.get_json().get('board', 'Gossoping')\n",
    "        page = request.get_json().get('page', 1)\n",
    "        \n",
    "        crawler = PttCrawler(board, page=page)\n",
    "    \n",
    "    result = crawler.run()\n",
    "    \n",
    "    return jsonify(result)"
   ]
  },
  {
   "cell_type": "code",
   "execution_count": 12,
   "metadata": {},
   "outputs": [
    {
     "name": "stdout",
     "output_type": "stream",
     "text": [
      "b'{\\n  \"message\": \"hello world\"\\n}\\n'\n",
      "{'message': 'hello world'}\n",
      "===========================================\n",
      "[{'author': '作者zzzz8931 (宅男)', 'title': '標題[新聞] 林務局「森林跳棋」像情趣用品？原創者回', 'content': '林務局「森林跳棋」像情趣用品？原創者回應了', 'date': '時間Thu Jan  4 14:00:58 2018'}, {'author': '作者science556 (啾啾人)', 'title': '標題[問卦] 全形是不是新注音輸入法中的肥宅?', 'content': '如題\\n\\n每次不小心切到全形\\n\\n怒氣值都會爆衝\\n\\n明明使用頻率遠輸英文大小寫，中文半形\\n\\n卻硬要跑出來佔一格超大的空間\\n\\n有沒有很眼熟?\\n\\n根本就跟八卦版的肥宅一樣無用又佔空間啊\\n\\n不小心碰到肥宅還會覺的很噁心!!!!\\n\\n\\n\\n-----\\nSent from JPTT on my Asus ASUS_Z012DA.\\n\\n--', 'date': '時間Thu Jan  4 14:01:39 2018'}, {'author': '作者serialhon (人生如夢)', 'title': '標題[新聞] 砍大稻埕煙火響應環保？ 柯：是議員刪的', 'content': '砍大稻埕煙火響應環保？ 柯：是議員刪的\\n\\n2018-01-04 12:32\\n\\n台北市長柯文哲說大稻埕煙火節有編預算，但被議員刪掉。圖為柯文哲今參加4座共融式遊戲場啟用記者會，好奇地看小朋友操作遊戲設施。（記者王藝菘攝）\\n\\n〔記者沈佩瑤／台北報導〕全台深陷霾害影響、空氣品質低落，部分縣市宣布一年一度的跨年活動不放煙火，響應環保。但台北市不只跨年照慣例放煙火，每年8月登場的大稻埕煙火節，同樣編列預算打算繼續辦。然而觀傳局長簡余晏3日備詢時表示，由於議會教育委員會已取消河岸音樂祭的400萬預算，「今年完全沒有煙火。」\\n\\n上午台北市長柯文哲出席活動後，被問到對於取消大稻埕煙火，是否為響應環保時直言「沒有啦，我們是有編預算，但被議員刪掉」，還說要去查查看是哪議員刪的。\\n\\n至於是否支持繼續大稻程煙火，柯重申他認為空污是每一天的事情，例如節慶鞭炮也是減量，但不會一下就把它消滅掉，所以他對大稻埕煙火的態度是已經放很多年了，也許可以加一些光雕，像今年跨年就增加光雕，讓煙火減量，從3萬發變成1萬6千發，這也許是比較正確的做法，「完全廢掉我覺得沒有必要。」', 'date': '時間Thu Jan  4 14:01:59 2018'}, {'author': '作者bowen5566 (天殘腳56)', 'title': '標題Re: [新聞] 高校賣淫亂象 天津師大現「車頂放飲料」', 'content': '通常都是放水\\n你喝我水=你和我睡的意思\\n拿了水就直接坐進副駕駛座\\n價格談不攏就下車把水放回去\\n警察實在是很難抓\\n中國有一個專拍社會實驗的實況主曾經針對這個怪想拍了一部影片諷刺\\n雖說是串通好的 不過實在很好笑XD', 'date': '時間Thu Jan  4 14:03:31 2018'}, {'author': '作者yamakazi (大安吳彥祖)', 'title': '標題[問卦] 每個月領十萬元不用上班要幹嘛', 'content': '小魯有個工程師朋友\\n\\n原本在一家科技業小公司上班\\n\\n月薪實領約十萬元\\n\\n去年最後一天被裁員\\n\\n公司資遣證明寫勞基法第十一條第五款 員工無法勝任工作\\n\\n給了二十萬元叫朋友走路\\n\\n本來想說好好放個假 再去找新工作\\n\\n但朋友的律師跟他說 公司沒辦法證明不適任\\n\\n也沒用盡各種輔導懲戒手段就資遣\\n\\n是違法資遣\\n\\n還舉了好幾個案例 包含這個', 'date': '時間Thu Jan  4 14:03:38 2018'}, {'author': '作者L1ON (我是獅子~(ﾉﾟ▽ﾟ)ﾉ♪)', 'title': '標題Re: [新聞] 陳喬恩酒駕遭逮 宅神：若處罰夠重一次就', 'content': '', 'date': '時間Thu Jan  4 14:04:52 2018'}, {'author': '作者Kay731 (K少)', 'title': '標題[公告] 八卦板板規(2017.11.11)', 'content': '╭─────────────────────────────────────╮\\n│ 本板為PTT八卦板，文章、推文及板務處理原則均依循中華民國法律、站規規範發\\u3000│\\n│ 文者，不得因不知相關板規而免卻責任。                                     │\\n╰─────────────────────────────────────╯', 'date': '時間Sat Nov 11 23:55:13 2017'}, {'author': '作者Unawakened (微瘦敏鎬)', 'title': '標題[協尋] 新北市78歲婦人(代po)', 'content': '阿嬤離家後失蹤了\\n天氣很冷 希望阿嬤能快點回家\\n\\n-', 'date': '時間Sun Dec 31 19:47:40 2017'}, {'author': '作者Kay731 (K少)', 'title': '標題Fw: [協尋] 12/24下午新北耶誕城廣場遺失鑽石項鍊', 'content': '', 'date': '時間Wed Dec 27 08:59:55 2017'}, {'author': None, 'title': None, 'content': None, 'date': None}]\n"
     ]
    }
   ],
   "source": [
    "import json\n",
    "\n",
    "resp = app.test_client().get('/')\n",
    "print(resp.data)\n",
    "print(json.loads(resp.data.decode()))\n",
    "print('===========================================')\n",
    "\n",
    "resp = app.test_client().get('/ptt_crawler')\n",
    "print(json.loads(resp.data.decode()))"
   ]
  },
  {
   "cell_type": "code",
   "execution_count": 8,
   "metadata": {},
   "outputs": [
    {
     "name": "stdout",
     "output_type": "stream",
     "text": [
      "[{'author': '作者jk952840 (Nicky)', 'title': '標題[問卦] 登入剛好一千天是不是算學長了', 'content': '今天剛好登入滿一千天\\n要在八卦版如此險惡的環境逛了一千天\\n我在版上年資是不是可以算值得尊敬的學長了？\\n\\n有沒有其他小學弟要來叫一聲學長好？\\n\\n--', 'date': '時間Thu Jan  4 13:41:35 2018'}, {'author': '作者ReAiZuGuo (レアイズグォ)', 'title': '標題[問卦] 新營跟高雄哪個沒落比較嚴重', 'content': '巴瓜版的新聞\\n\\n新營書店/高雄家樂福 要結束營業\\n\\n股市都上萬點了\\n\\n這兩個地方是不是沒落拉~\\n\\n哪邊沒落較多?\\n\\n有沒有中壢里姓鄉民討論下\\n\\n\\n--', 'date': '時間Thu Jan  4 13:41:46 2018'}, {'author': '作者KINMENKING (亂世狂刀)', 'title': '標題[新聞]北韓今日又撥打熱線！南韓24小時內接到3通', 'content': '自由時報  「北韓今日又撥打熱線！ 南韓24小時內接到3通電話」 2018-01-04 12:31\\n\\n〔即時新聞／綜合報導〕北韓於昨日（3日）下午3時30分撥通板門店熱線，這是自2016年\\n2月以來首次南北韓通話，雙方談話約20分鐘結束，隨後北韓又在3日晚間6時07分、今日\\n上午9時30分打給南韓，在將近兩年斷絕熱線後，於短短24小時內打了3通電話。\\n\\n據《CNN》報導，北韓使用紅色電話撥打，南韓方面以綠色電話收聽，電腦螢幕上顯示著\\n「南北直撥電話」的字樣。至於電話中交流了何種事項？南韓統一部只簡單地表示，雙方\\n檢查了通訊線路的技術問題。\\n\\n南韓統一部說，在今天的電話裡，雙方再次檢查以確保線路穩定，南韓方面也詢問北韓是\\n否有新消息？北韓則回應「沒有，我們會在有新消息時進行通知」。\\n\\n在2016年2月北韓中止熱線後，南韓每天上午9時和下午4時都會撥打電話，但北韓始終沒\\n有回應，直到昨天才主動破冰。南北韓之所以能重啟熱線，平昌冬奧被認為是重大契機，\\n因為北韓希望派員參加冬季奧運。', 'date': '時間Thu Jan  4 13:42:27 2018'}, {'author': '作者audi86 (audi86)', 'title': '標題[問卦] 同一個人的演唱會幾場會膩', 'content': '巡迴演唱會都好多場\\n\\n像阿妹 周董 五月天 蔡依琳 學友哥 江蕙\\n\\n票都很難買   不過啊  大家最多同一個人追幾場啊\\n\\n我高中同學最屌阿妹10幾場  因為他是甲甲所以超死忠\\n\\n大家的極限是幾場啊\\n\\n有沒有八卦\\n\\n--', 'date': '時間Thu Jan  4 13:42:58 2018'}, {'author': '作者dog990999 (姆咪心動動)', 'title': '標題[問卦] 有沒有夏天空氣比較好的八卦', 'content': '大家都說空污一定是火力害的\\n怎麼數據不是這樣\\n夏天空污文也真沒冬天多耶', 'date': '時間Thu Jan  4 13:42:59 2018'}, {'author': '作者JiaTai (Jiatai)', 'title': '標題[問卦] Intel CEO可能將遭到證券交易委員會調查', 'content': '', 'date': '時間Thu Jan  4 13:43:18 2018'}, {'author': '作者MatheFuck (媽英告)', 'title': '標題[問卦] 怎麼幫助大奶妹？', 'content': '', 'date': '時間Thu Jan  4 13:43:31 2018'}, {'author': '作者Barcarolle (小河)', 'title': '標題[新聞] 韓媒：金正恩5年肥40公斤 臉部現老化痕跡', 'content': '韓媒：金正恩5年肥40公斤 臉部現老化痕跡', 'date': '時間Thu Jan  4 13:44:22 2018'}, {'author': '作者macassans (Rel4x)', 'title': '標題[新聞] 月底出訪歐洲 柯P自爆：土耳其要送我們一', 'content': '月底出訪歐洲 柯P自爆：土耳其要送我們一座清真寺\\n\\n2018-01-04 12:09\\n〔記者沈佩瑤／台北報導〕台北市長柯文哲預定一月底出訪歐洲11天，預計參訪波蘭、比\\n利時、土耳其跟荷蘭等四個國家，今天他受訪時談到此行目的，先是呢喃「現在講太早」\\n，旋即自爆「土耳其要送我們一座清真寺」，事關好幾億，就去跟對方談談看。\\n\\n\\n柯文哲上午出席文化局共融式公園啟用典禮後受訪，被問到一月底出訪歐洲目的。柯表示\\n，土耳其政府要出錢在台北蓋清真寺，因為這好幾億的東西，既然人家希望蓋，就去談談\\n看。\\n\\n至於荷蘭，他一直認為荷蘭是台灣最好的模仿對象，不管在民主政治、經濟發展還有整個\\n環境的相似度最高，荷蘭是台北一個很重要的學習對象。「（比利時）布魯塞爾就牽涉到\\n我們跟歐盟的關係」，而波蘭華沙則是台北的姐妹市，還是要去處理一下。\\n\\n有媒體質疑和選舉有關？柯對此僅笑回「跟選舉怎麼會有關係，聽起來就差太遠。」', 'date': '時間Thu Jan  4 13:44:33 2018'}, {'author': '作者WhiteWhale (懷特威爾)', 'title': '標題Re: [問卦] 以前播0204真的有人接嗎', 'content': '我國中有一陣子常常打\\n\\n一群國中屁孩到學校拿同學的手機打\\n\\n現在印象就是她們超級愛拖時間\\n\\n我  ：你叫，我要聽你淫叫\\n\\n0204：好喔，那我先脫褲子>///<\\n\\n脫脫脫拖拖拖\\n\\n脫個褲子就可以拖兩分鐘還不開始叫\\n\\n讓我很不爽\\n\\n不過反正是用別人的手機，就算了\\n\\n每次打完都很空虛，覺得自己很蠢\\n\\n但是到下一次大家提議要打的時候還是會跟著打就是了', 'date': '時間Thu Jan  4 13:44:33 2018'}, {'author': '作者hungayo (Ayo)', 'title': '標題Re: [新聞] 電動機車電池規格 Gogoro化', 'content': '沒看到真正的公告 ，所以新聞寫的都是看看就好，不過要規格化，應該要開國際評選，找出最優良的廠商，畢竟電池科技雖然沒有飛奔成長，但也是發展迅速，gogoro不是電池大廠，也不是什麼技術領先者（跟全世界比），這樣補助下去，搞不好跟4g 時代一樣押寶intel一樣，全盤皆輸。（基本上我認為gogoro比intel當時還不如）。\\n\\n不過不過，假設以支持本土廠商來看，就勉為其難選gogoro吧，雖然我認為他只是有著漂亮外殼，真正的機電跟電池其實還是靠買的，但.........................總比那敗家子的破公司及其他代工車廠好。就gogoro吧，QQ\\n-----\\nSent from JPTT on my iPhone\\n\\n--', 'date': '時間Thu Jan  4 13:44:46 2018'}, {'author': '作者applerunning (A-ROD)', 'title': '標題[問卦] 肥宅自己煮午餐會比較健康嗎?', 'content': '各位剛吃飽的肥宅大家午安\\n\\n前幾天我問說生魚片吃太多會不會影響肥宅的健康\\n\\n看起來大家不太擔心肥宅的健康\\n\\n大多是擔心生魚片被肥宅吃很可憐\\n\\n那如果肥宅是自己煮午餐吃的話會比較健康嗎?有八卦嗎?', 'date': '時間Thu Jan  4 13:44:51 2018'}, {'author': '作者bpwolf (小灰狼)', 'title': '標題[問卦] 問！你各位晚餐都吃多少？', 'content': '早安啊各位又暖又好看的鄉民們☺\\n話說小魯最近食量大，\\n常常都不小心吃太多覺得很懊惱，\\n人越來越肥宅、錢包越來越瘦QQ\\n\\n話說你各位帥哥美女，\\n平常晚餐都吃多少錢啊？\\n最近幾天晚餐都吃到3.4百，\\n吃完又繼續買宵夜吃...超胖\\n\\n4說，\\n我這樣總該可以稱作肥宅了八☺\\n有沒有八卦？\\n\\n--', 'date': '時間Thu Jan  4 13:45:02 2018'}, {'author': '作者taiwan0928 (Where is the Republic)', 'title': '標題Re: [問卦] 歐洲比台灣窮的國家看起來都比較發達？', 'content': '', 'date': '時間Thu Jan  4 13:45:34 2018'}, {'author': '作者jenlei (大帥哥)', 'title': '標題[ＦＢ] 曾韋禎 柯P縱容民粹賊頭賴香伶惡搞媒體', 'content': '20字掛點\\n曾韋禎壞壞批評阿伯重用勞工局長賴神\\n惡搞媒體業\\n現在大溼用同樣標準檢視阿伯11天訪歐\\n是不是真的有兩組人馬沒有連續11天上班\\n！\\n過分耶！\\n\\n內文\\n柯文哲重用賴香伶這種民粹賊頭擔任勞動局長，縱容左派打手公報私仇，把公權力當成個\\n人報復過去當記者不如意的工具，全面惡搞媒體業，還說首長出國，隨訪媒體要派兩組人\\n輪替，或使用公稿。\\n\\n現在柯文哲宣布要訪歐11天。柯文哲既然要拿賴香伶搞民粹騙選票，現在是不是要清楚約\\n束一下，各媒體要隨訪的，至少要派兩組人才能跟？不然都用公稿。\\n\\n另外那些跑柯文哲的，還口口聲聲宣稱勞權的年輕記者們，是不是也要拒絕連續上班11天\\n？不然之前對修法指指點點，彷彿是勞權捍衛者，現在自己要花公司的錢出國爽，就可以\\n當奴工了？自甘下流也不是這樣子的啊！', 'date': '時間Thu Jan  4 13:45:46 2018'}, {'author': '作者ofpurity (love ?)', 'title': '標題Re: [新聞] 電動機車電池規格 Gogoro化 ', 'content': '一群低能兒 整天意識型態作祟 見不得人家好\\n\\n好不容易台灣有一個能進軍國際的東西\\n\\n人家稍微有點成績 就急著唱衰\\n\\n真正做起來 就眼紅嫉妒\\n\\n台灣是要怎麼進步\\n\\n動不動就三小 圖利廠商 人家前面研發幾億在燒\\n\\n都看不到？ 那跟貫老闆有啥兩樣\\n\\n規格這種東西本來就是該統一\\n\\n記不記得以前的手機充電線 全部不同\\n\\n每個廠牌都自己的規格 就是要打擊其他廠商\\n\\n最後歐盟看不下去說 全部要統一成UBS充電規格\\n\\n又一堆白痴智障低能兒跳出來『圖利廠商 扼殺創新』\\n\\n現在呢？爽到誰 消費者得利阿\\n\\n規格就是贏家全拿 為什麼？\\n\\n阿就人家技術最先進 最方便 最便宜阿\\n\\n前面研發都不知道燒了多少錢\\n\\n你這種垃圾技術 憑什麼要人家用你\\n\\nPS那時代的遊戲機競爭 其中一個原因 就是因為PS用自己的特規CD打爆了\\n\\n另外兩家任天堂還有SEGA的主機 銷售量兩家加起來多一個零都打輸PS\\n\\n因為CD容量大 方便 便宜 誰要用厚厚的卡帶阿\\n\\n後來XBOX也是乖乖用CD 而不是自己出遊戲卡帶\\n\\n阿後來CD在各個層級發光發熱 怎麼沒有看到有人出來哭杯？\\n\\n：抗議 為什麼這台音響只能聽CD 不能聽錄音帶？\\n\\n\\n--', 'date': '時間Thu Jan  4 13:47:01 2018'}, {'author': '作者phew18 (休士頓)', 'title': '標題[新聞] 陳喬恩酒駕遭逮 宅神：若處罰夠重一次就', 'content': '1.媒體來源:\\n自由\\n\\n2.完整新聞標題:\\n陳喬恩酒駕遭逮 宅神：若處罰夠重一次就身敗名裂\\n\\n3.完整新聞內文:\\n〔即時新聞／綜合報導〕近年將重心轉往中國發展的藝人陳喬恩，今凌晨酒駕遭逮，酒酒\\n測值0.67，上午被依涉公共危險罪送辦，檢方諭令10萬元交保後，在律師等人陪同下離開\\n北檢，對於媒體的提問只簡單回應：「對不起」。對此，「宅神」朱學恒感嘆，酒駕「如\\n果處罰夠重，一次就身敗名裂」。\\n\\n「宅神」在臉書轉貼陳喬恩酒駕的新聞，並感嘆的說，酒駕如果處罰夠重，一次就會身敗\\n名裂，而那些愛惜自己羽毛、擁有廣大影迷的藝人，會冒這麼大的危險酒駕嗎？「覺青不\\n要再出來說什麼社會都推了一把，其他演藝圈也不要出來瞎護航，酒駕真的害人害己，不\\n要再縱容了。」\\n\\n陳喬恩在今天凌晨近2點左右，一個人開車行經北市忠孝東路四段與復興南路口時，紅燈\\n違規右轉，員警隨即將她攔下，因聞到陳喬恩身上有酒氣所以對她進行酒測，結果酒測直\\n達0.67，車當場被扣下；陳喬恩在早上9點被移送北檢，11點半以10萬元辦保後離開北檢\\n。\\n\\n☆飲酒過量 有害健康 禁止酒駕☆\\n\\n4.完整新聞連結 (或短網址):', 'date': '時間Thu Jan  4 13:48:21 2018'}, {'author': '作者Bignana (封鱗非冕欲星移)', 'title': '標題Re: [問卦] 問！你各位晚餐都吃多少？', 'content': '大前天晚餐980\\n前天800左右\\n昨天460\\n\\n大前天吃 炒飯 握壽司 鮮魚湯 炸豬排 炸明蝦 培根干貝\\n\\n前天吃PIZZA跟炸雞(買大送大)\\n\\n昨天吃兩碗海產粥 炒青菜 炸魚腸 炒鴨腸 煎鮮魚\\n\\n上個月也曾經一人在夜市花1000 全買吃的 當然都是我一個人吃的~\\n\\n給你參考一下 要當真肥宅 你要去領號碼牌', 'date': '時間Thu Jan  4 13:49:26 2018'}, {'author': '作者kuzu (酷蘇打☆クズだ)', 'title': '標題[問卦] 台灣人用微博的是為什麼？', 'content': '如題\\n\\n很多台灣藝人 可能是因為臉書需要翻牆吧\\n\\n總之他們也會辦微博發文\\n\\n那台灣普通民眾\\n\\n用微博的原因是什麼\\n\\n是因為要追星嗎？還是微博好用？@@\\n\\n有沒有八卦\\n\\n卦\\n\\n--', 'date': '時間Thu Jan  4 13:49:57 2018'}, {'author': '作者quiz (~隨堂測驗~)', 'title': '標題[新聞] 央視節目短片登台\\u3000陸委會：未經許可違法', 'content': '1.媒體來源: 蘋果日報\\n\\n2.完整新聞標題: 央視節目短片登台\\u3000陸委會：未經許可違法播放已停播\\n\\n3.完整新聞內文:\\n\\n\\n中國中央電視台推出《信中國》節目，前天在西門町大型螢幕看板播放15秒宣傳影片，\\n節目微博也發布在台灣播放宣傳影片貼文。陸委會副主會邱垂正今表示，', 'date': '時間Thu Jan  4 13:50:06 2018'}, {'author': '作者Kay731 (K少)', 'title': '標題[公告] 八卦板板規(2017.11.11)', 'content': '╭─────────────────────────────────────╮\\n│ 本板為PTT八卦板，文章、推文及板務處理原則均依循中華民國法律、站規規範發\\u3000│\\n│ 文者，不得因不知相關板規而免卻責任。                                     │\\n╰─────────────────────────────────────╯', 'date': '時間Sat Nov 11 23:55:13 2017'}, {'author': '作者Unawakened (微瘦敏鎬)', 'title': '標題[協尋] 新北市78歲婦人(代po)', 'content': '阿嬤離家後失蹤了\\n天氣很冷 希望阿嬤能快點回家\\n\\n-', 'date': '時間Sun Dec 31 19:47:40 2017'}, {'author': '作者Kay731 (K少)', 'title': '標題Fw: [協尋] 12/24下午新北耶誕城廣場遺失鑽石項鍊', 'content': '', 'date': '時間Wed Dec 27 08:59:55 2017'}, {'author': None, 'title': None, 'content': None, 'date': None}]\n"
     ]
    }
   ],
   "source": [
    "import ptt_crawler\n",
    "\n",
    "crawler = ptt_crawler.PttCrawler('Gossiping', page=1)\n",
    "result = crawler.run()\n",
    "print(result)"
   ]
  },
  {
   "cell_type": "code",
   "execution_count": 15,
   "metadata": {},
   "outputs": [
    {
     "name": "stdout",
     "output_type": "stream",
     "text": [
      "[{'author': '作者Blopress (UCCU)', 'title': '標題[問卦] 台甲對台灣有什麼貢獻', 'content': '如題\\n\\n大家覺得\\n\\n台甲對台灣 有什麼益處啊\\n\\n我是想到一點啦\\n\\n就是 對愛滋研究 貢獻良多\\n\\n畢竟 有穩定且大量的病人檢體 臨床資訊\\n\\n對疾病研究是很重要的\\n\\n台甲每年貢獻兩千多個新的HIV case\\n\\n真是太偉大了\\n\\n不像日本甲\\n\\n小氣的要命\\n\\n每年貢獻七百個新的愛滋甲而已\\n\\n虧他們人口還是我們的五倍咧\\n\\n大家給台甲拍拍手\\n\\n好噗好？\\n\\n--', 'date': '時間Thu Jan  4 14:39:03 2018'}, {'author': '作者powerguy (屁蓋)', 'title': '標題Re: [新聞] 王炳忠手札出現「黨政局今年5百萬，下修3', 'content': '', 'date': '時間Thu Jan  4 14:39:36 2018'}, {'author': '作者yamakazi (大安吳彥祖)', 'title': '標題[問卦] 周芷若如果去開直播可以收多少斗內', 'content': '我覺得周芷若長得還不錯\\n\\n當過學生會長\\n\\n名校文組畢業\\n\\n講東西還算言之有物\\n\\n內容同不同意就再說\\n\\n她如果肯去開直播的話\\n\\n斗內可以收多少啊\\n-----\\nSent from JPTT on my iPhone\\n\\n--', 'date': '時間Thu Jan  4 14:39:48 2018'}]\n"
     ]
    }
   ],
   "source": [
    "resp = app.test_client().get('/ptt_crawler')\n",
    "print(json.loads(resp.data.decode())[0:3])"
   ]
  },
  {
   "cell_type": "code",
   "execution_count": 16,
   "metadata": {},
   "outputs": [
    {
     "name": "stdout",
     "output_type": "stream",
     "text": [
      "[{'author': '作者alisa1112 (依宸兒)', 'title': '標題[心得/閃光] 來曬個貓', 'content': '我只是來曬貓的(｡･ω･｡)\\n以下我鵝子的口吻～～\\n\\n\\n嗨(=ﾟωﾟ)ﾉ大家好，我是KuLi\\n是剛滿四個月的開朗活潑獅子男\\n出生在台南 生長在台南', 'date': '時間Thu Jan  4 12:41:27 2018'}, {'author': '作者ethelya (ethelyen)', 'title': '標題[問題] 有人願意捐款救小貓嗎？', 'content': '#標題應為 [問題/OO]，發文完請再一次確認標題格式無誤。\\n#發文之後請務必回應熱心板友的回文或推文，這是基本禮貌。\\n#發文表示您已讀過置底板規，一旦發生違反板規之情事，同意可能受到板規處罰。\\n#請用[CTRL+K]刪除這些預設文字。\\n------------------------------------------------------------------------\\n流浪小貓被車撞，\\n開放性骨折，\\n在高雄中興動物醫治，\\n醫藥費目前為一萬七，\\n已募到一萬二，\\n希望愛心人士能幫忙。\\n\\n錢不會過到我的手，\\n詳細資訊可站內信給我，\\n我再請朋友跟您聯絡，\\n謝謝您。', 'date': '時間Thu Jan  4 12:43:49 2018'}, {'author': '作者gueifu (gueifu)', 'title': '標題[心得]', 'content': '有人的貓比我家的還壞嗎?\\n1.最晚是4點半叫我起床，最早是2點半，如此已經三年了\\n2.如果我不起床就製造噪音。\\nA踩馬桶水箱蓋，發出聲響\\nB腳踩托鞋，咬著啪啪啪拍地\\nC咬衛生紙塑膠袋，發出聲響或拖出衛生紙。\\n3.如果我再不起床，當天就不在沙盆大便，會在浴室地板,浴缸或陽台大便，給我好看。\\n4.看到我就吵著要吃，不管幾次，有時吃到吐了，還是吵，反正我坐著看電視，她就在碗\\n前喵喵叫。\\n5.無聊就去逛樓梯間，一個早上最多可出去三次，自己去自己回，但要我開門。\\n回家要進門時就喵一聲或拉鐵門製造音響。\\n貓有心機，會報復，我肯定。\\n心好累....', 'date': '時間Thu Jan  4 13:26:53 2018'}]\n"
     ]
    }
   ],
   "source": [
    "resp = app.test_client().post('/ptt_crawler', data = json.dumps({'board': 'cat', 'page':2}), content_type='application/json')\n",
    "\n",
    "print(json.loads(resp.data.decode())[0:3])"
   ]
  },
  {
   "cell_type": "code",
   "execution_count": null,
   "metadata": {
    "collapsed": true
   },
   "outputs": [],
   "source": []
  }
 ],
 "metadata": {
  "kernelspec": {
   "display_name": "Python 3",
   "language": "python",
   "name": "python3"
  },
  "language_info": {
   "codemirror_mode": {
    "name": "ipython",
    "version": 3
   },
   "file_extension": ".py",
   "mimetype": "text/x-python",
   "name": "python",
   "nbconvert_exporter": "python",
   "pygments_lexer": "ipython3",
   "version": "3.5.2"
  }
 },
 "nbformat": 4,
 "nbformat_minor": 2
}
